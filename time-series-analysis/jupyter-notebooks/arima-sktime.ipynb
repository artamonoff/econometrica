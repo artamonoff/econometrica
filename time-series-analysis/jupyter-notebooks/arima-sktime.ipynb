{
 "cells": [
  {
   "cell_type": "markdown",
   "metadata": {},
   "source": [
    "# Модель ARIMA (пакет [`sktime`](https://www.sktime.net/en/stable/))\n",
    "\n",
    "Спецификация ARIMA(p,d,q) (ARIMA = AutoRegressive Integrated Moving Average)\n",
    "\n",
    "$$\n",
    "\\begin{aligned}\n",
    "\t\\Delta ^d y_t &= \\left(\\alpha_0+\\sum_{j=1}^k\\alpha_j t^j\\right)+\\sum_{j=1}^p\\phi_j\\Delta^d y_{t-j}+u_t+\\sum_{s=1}^q\\theta_s u_{t-s} &\n",
    "\tu_t&\\sim WN(0,\\sigma^2)\n",
    "\\end{aligned}\n",
    "$$\n",
    "где\n",
    "* p - порядок авторегрессионной части\n",
    "* d - порядок интегрирования\n",
    "* q - порядок части скользящего среднего \n",
    "* $\\alpha_0$ - константа (d=0) или снос (d=1)\n",
    "\n",
    "Спецификация с использование лагового оператора\n",
    "\n",
    "$$\n",
    "\\begin{aligned}\n",
    "\t\\phi_p(L)(1-L)^dy_t&=\\left(\\alpha_0+\\sum_{j=1}^k\\alpha_j t^j\\right)+\\theta_q(L)u_t & u_t&\\sim WN(0,\\sigma^2)\n",
    "\\end{aligned}\n",
    "$$\n",
    "где многочлены\n",
    "$$\n",
    "\\begin{aligned}\n",
    "\t\\phi_p(z)&=1-\\phi_1z-\\cdots-\\phi_pz^p & \\theta_q(z)&=1+\\theta_1z+\\cdots+\\theta_qz^q\n",
    "\\end{aligned}\n",
    "$$\n",
    "\n",
    "Альтернативная спецификация (оцениваемая в `statsmodels`!)\n",
    "\n",
    "$$\n",
    "\\begin{aligned}\n",
    "\ty_t&=\\sum_{j=d}^{d+k}\\delta_jt^j+\\epsilon_t & \\phi_p(L)(1-L)^d\\epsilon_t&=\\theta_q(L)u_t & u_t&\\sim WN(0,\\sigma^2)\n",
    "\\end{aligned}\n",
    "$$"
   ]
  },
  {
   "cell_type": "code",
   "execution_count": null,
   "metadata": {},
   "outputs": [],
   "source": [
    "import numpy as np\n",
    "import pandas as pd\n",
    "\n",
    "# импорт из библиотеки statsmodels\n",
    "from sktime.forecasting.arima import StatsModelsARIMA as ARIMA\n",
    "# импорт из библиотеки statsforecast\n",
    "from sktime.forecasting.statsforecast import StatsForecastAutoARIMA as AutoARIMA\n",
    "# импорт из пакета pmdarima\n",
    "# from sktime.forecasting.arima import ARIMA, AutoARIMA\n",
    "\n",
    "from sktime.utils.plotting import plot_series\n",
    "# временной горизонт для прогнозирования\n",
    "from sktime.forecasting.base import ForecastingHorizon\n",
    "\n",
    "import pandas_datareader.data as web\n",
    "\n",
    "# тесты диагностики\n",
    "from statsmodels.stats.diagnostic import het_arch, acorr_ljungbox\n",
    "\n",
    "# настройки визуализации\n",
    "import matplotlib.pyplot as plt\n",
    "\n",
    "# Не показывать Warnings\n",
    "import warnings\n",
    "warnings.simplefilter(action='ignore', category=Warning)\n",
    "# Не показывать ValueWarning, ConvergenceWarning из statsmodels\n",
    "from statsmodels.tools.sm_exceptions import ValueWarning, ConvergenceWarning\n",
    "warnings.simplefilter('ignore', category=ValueWarning)\n",
    "warnings.simplefilter('ignore', category=ConvergenceWarning)"
   ]
  },
  {
   "cell_type": "markdown",
   "metadata": {},
   "source": [
    "Для подгонки используем класс \n",
    "* [StatsModelsARIMA](https://www.sktime.net/en/stable/api_reference/auto_generated/sktime.forecasting.arima.StatsModelsARIMA.html): модель заданного порядка (из пакета `statsmodels`)\n",
    "* [StatsForecastAutoARIMA](https://www.sktime.net/en/stable/api_reference/auto_generated/sktime.forecasting.statsforecast.StatsForecastAutoARIMA.html): выбор модели \"оптимального порядка\" (из пакета `statsforecast`)\n",
    "\n",
    "При спецификации модели заданного порядка нужно задать параметры `order` (порядок модели) и  `trend` (порядок тренда, если тренд включается в модель)\n",
    "\n",
    "|d|Порядок тренда $k+d$|`trend`|`trend` (альтернативно)|\n",
    "|-|:-:|:-:|:-:|\n",
    "|0|-|'n'|`[0]`|\n",
    "|0|0|'c'|`[1]`|\n",
    "|0|1|'ct'|`[1, 1]`|\n",
    "|1|-|'n'|`[0]`|\n",
    "|1|1|'t'|`[0, 1]`|\n",
    "\n",
    "Альтернативно можно использовать классы (фактически из пакета `pmdarima`)\n",
    "* [ARIMA](https://www.sktime.net/en/stable/api_reference/auto_generated/sktime.forecasting.arima.ARIMA.html): модель заданного порядка\n",
    "* [AutoARIMA](https://www.sktime.net/en/stable/api_reference/auto_generated/sktime.forecasting.arima.AutoARIMA.html): выбор модели \"оптимального порядка\"\n"
   ]
  },
  {
   "cell_type": "markdown",
   "metadata": {},
   "source": [
    "## Подгонка ARIMA заданного порядка\n",
    "\n",
    "Загрузим из БД [`FRED`](https://fred.stlouisfed.org/) недельные данные по 3-Month Treasury Bill Secondary Market Rate (Symbol [`WTB3MS`](https://fred.stlouisfed.org/series/WTB3MS)) с 2000-01-01 по 2023-12-31 и создадим датафрейм `y`"
   ]
  },
  {
   "cell_type": "code",
   "execution_count": null,
   "metadata": {},
   "outputs": [],
   "source": [
    "y = web.DataReader(name='WTB3MS', data_source='fred', start='2000-01-01', end='2023-12-31')"
   ]
  },
  {
   "cell_type": "markdown",
   "metadata": {},
   "source": [
    "Подгоним модель ARIMA(2,1,2) без сноса (без тренда) для `y`\n",
    "\n",
    "Спецификация\n",
    "\n",
    "$$\n",
    "\t(1-\\phi_1L-\\phi_2 L^2)(1-L) y_t=u_t+\\theta_1 u_{t-1}+\\theta_2 u_{t-2}\n",
    "$$"
   ]
  },
  {
   "cell_type": "code",
   "execution_count": null,
   "metadata": {},
   "outputs": [],
   "source": [
    "forecaster = ARIMA(order=(2,1,2), trend='n')\n",
    "forecaster.fit(y)\n",
    "forecaster.summary()"
   ]
  },
  {
   "cell_type": "code",
   "execution_count": null,
   "metadata": {},
   "outputs": [],
   "source": [
    "forecaster.get_fitted_params()"
   ]
  },
  {
   "cell_type": "markdown",
   "metadata": {},
   "source": [
    "## Диагностика модели\n",
    "\n",
    "Остатки (__обратим внимание на пропущенные значения!__)"
   ]
  },
  {
   "cell_type": "code",
   "execution_count": null,
   "metadata": {},
   "outputs": [],
   "source": [
    "forecaster.predict_residuals(y)"
   ]
  },
  {
   "cell_type": "markdown",
   "metadata": {},
   "source": [
    "График остатков"
   ]
  },
  {
   "cell_type": "code",
   "execution_count": null,
   "metadata": {},
   "outputs": [],
   "source": [
    "forecaster.predict_residuals(y).plot()\n",
    "\n",
    "plt.show()"
   ]
  },
  {
   "cell_type": "markdown",
   "metadata": {},
   "source": [
    "Тест на серийную корреляцию (Ljung-Box)\n",
    "\n",
    "__Важно__ удалим пропущенные значения для остатков"
   ]
  },
  {
   "cell_type": "code",
   "execution_count": null,
   "metadata": {},
   "outputs": [],
   "source": [
    "# model_df = p+q\n",
    "acorr_ljungbox(forecaster.predict_residuals(y).dropna() , lags=[7], model_df=2+2)"
   ]
  },
  {
   "cell_type": "markdown",
   "metadata": {},
   "source": [
    "Тест на гетероскедастичность\n",
    "\n",
    "__Важно__ удалим пропущенные значения для остатков"
   ]
  },
  {
   "cell_type": "code",
   "execution_count": null,
   "metadata": {},
   "outputs": [],
   "source": [
    "lm_stat, lm_pval, f_stat, f_pval = het_arch(forecaster.predict_residuals(y).dropna(), nlags=7, ddof=2+2)\n",
    "\n",
    "lm_stat, lm_pval"
   ]
  },
  {
   "cell_type": "markdown",
   "metadata": {},
   "source": [
    "## Прогнозирование\n",
    "\n",
    "Построим прогноз  по модели ARIMA(1,1,1) со сносом\n",
    "\n",
    "Спецификация\n",
    "\n",
    "$$\n",
    "\t(1-\\phi L)(1-L) y_t=\\alpha_0+u_t+\\theta u_{t-1}\n",
    "$$\n",
    "\n",
    "Численный прогноз на 10 периодов"
   ]
  },
  {
   "cell_type": "code",
   "execution_count": null,
   "metadata": {},
   "outputs": [],
   "source": [
    "forecaster = ARIMA(order=(1,1,1), trend='n')\n",
    "# зададим горизонт прогнозирования и частотность\n",
    "fh = ForecastingHorizon(np.arange(1,11), freq ='W-Fri')\n",
    "\n",
    "y_pred = forecaster.fit_predict(y=y, fh=fh)\n",
    "y_pred"
   ]
  },
  {
   "cell_type": "markdown",
   "metadata": {},
   "source": [
    "Визуализация прогноза "
   ]
  },
  {
   "cell_type": "code",
   "execution_count": null,
   "metadata": {},
   "outputs": [],
   "source": [
    "plot_series(y.tail(50), y_pred, labels=['y', 'y_pred'])\n",
    "\n",
    "plt.show()"
   ]
  },
  {
   "cell_type": "markdown",
   "metadata": {},
   "source": [
    "Доверительный интервал"
   ]
  },
  {
   "cell_type": "code",
   "execution_count": null,
   "metadata": {},
   "outputs": [],
   "source": [
    "conf_int = forecaster.predict_interval(fh=fh, coverage=0.9)\n",
    "conf_int"
   ]
  },
  {
   "cell_type": "code",
   "execution_count": null,
   "metadata": {},
   "outputs": [],
   "source": [
    "plot_series(y.tail(20), y_pred, labels=['y', 'y_pred'], markers=['o', 'X'], pred_interval=conf_int)\n",
    "\n",
    "plt.show()"
   ]
  },
  {
   "cell_type": "markdown",
   "metadata": {},
   "source": [
    "# Автоматический выбор порядка модели\n",
    "\n",
    "Базовые параметры автоматического выбора\n",
    "\n",
    "|Критерий|`AutoARIMA`|Значения|\n",
    "|-|-|-|\n",
    "|Информационный критерий|`information_criterion`|aic (по умолчанию), aicc, bic, hqic |\n",
    "|тест единичного корня|`test`|kpss (по умолчанию), adf, pp|\n",
    "|max порядок d|`max_d`| 2 по умолчанию |\n",
    "|max порядок p,q|`max_p`, ` max_q`|5 по умолчанию|\n",
    "|модель с сезонностью|`seasonal`|True по умолчанию|\n",
    "|уровень значимость|`alpha`|0.05 по умолчанию|\n",
    "\n",
    "__Замечание__: автоматические выбирается нужно ли включать снос/константу/тренд в модель"
   ]
  },
  {
   "cell_type": "code",
   "execution_count": null,
   "metadata": {},
   "outputs": [],
   "source": [
    "forecaster = AutoARIMA(information_criterion='bic', test='kpss', seasonal=False)\n",
    "forecaster.fit(y)\n",
    "forecaster.get_fitted_params() #['order']"
   ]
  }
 ],
 "metadata": {
  "kernelspec": {
   "display_name": "base",
   "language": "python",
   "name": "python3"
  },
  "language_info": {
   "codemirror_mode": {
    "name": "ipython",
    "version": 3
   },
   "file_extension": ".py",
   "mimetype": "text/x-python",
   "name": "python",
   "nbconvert_exporter": "python",
   "pygments_lexer": "ipython3",
   "version": "3.12.3"
  }
 },
 "nbformat": 4,
 "nbformat_minor": 2
}
