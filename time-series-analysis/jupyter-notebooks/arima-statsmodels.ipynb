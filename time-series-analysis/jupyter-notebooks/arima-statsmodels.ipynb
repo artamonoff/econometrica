{
 "cells": [
  {
   "cell_type": "markdown",
   "metadata": {},
   "source": [
    "# Модель ARIMA (пакет [`statsmodels`](https://www.statsmodels.org/stable/index.html))\n",
    "\n",
    "Спецификация ARIMA(p,d,q) (ARIMA = AutoRegressive Integrated Moving Average)\n",
    "\n",
    "$$\n",
    "\\begin{aligned}\n",
    "\t\\Delta ^d y_t &= \\left(\\alpha_0+\\sum_{j=1}^k\\alpha_j t^j\\right)+\\sum_{j=1}^p\\phi_j\\Delta^d y_{t-j}+u_t+\\sum_{s=1}^q\\theta_s u_{t-s} &\n",
    "\tu_t&\\sim WN(0,\\sigma^2)\n",
    "\\end{aligned}\n",
    "$$\n",
    "где\n",
    "* p - порядок авторегрессионной части\n",
    "* d - порядок интегрирования\n",
    "* q - порядок части скользящего среднего \n",
    "* $\\alpha_0$ - константа (d=0) или снос (d=1)\n",
    "\n",
    "Спецификация с использование лагового оператора\n",
    "\n",
    "$$\n",
    "\\begin{aligned}\n",
    "\t\\phi_p(L)(1-L)^dy_t&=\\left(\\alpha_0+\\sum_{j=1}^k\\alpha_j t^j\\right)+\\theta_q(L)u_t & u_t&\\sim WN(0,\\sigma^2)\n",
    "\\end{aligned}\n",
    "$$\n",
    "где многочлены\n",
    "$$\n",
    "\\begin{aligned}\n",
    "\t\\phi_p(z)&=1-\\phi_1z-\\cdots-\\phi_pz^p & \\theta_q(z)&=1+\\theta_1z+\\cdots+\\theta_qz^q\n",
    "\\end{aligned}\n",
    "$$\n",
    "\n",
    "Альтернативная спецификация (оцениваемая в `statsmodels`!)\n",
    "\n",
    "$$\n",
    "\\begin{aligned}\n",
    "\ty_t&=\\sum_{j=d}^{d+k}\\delta_jt^j+\\epsilon_t & \\phi_p(L)(1-L)^d\\epsilon_t&=\\theta_q(L)u_t & u_t&\\sim WN(0,\\sigma^2)\n",
    "\\end{aligned}\n",
    "$$"
   ]
  },
  {
   "cell_type": "code",
   "execution_count": 2,
   "metadata": {},
   "outputs": [],
   "source": [
    "import numpy as np\n",
    "import pandas as pd\n",
    "\n",
    "from statsmodels.tsa.api import ARIMA\n",
    "from statsmodels.stats.api import het_arch, acorr_ljungbox\n",
    "from statsmodels.graphics.tsaplots import plot_predict\n",
    "\n",
    "import pandas_datareader.data as web\n",
    "\n",
    "# настройки визуализации\n",
    "import matplotlib.pyplot as plt\n",
    "\n",
    "# Не показывать Warnings\n",
    "import warnings\n",
    "warnings.simplefilter(action='ignore', category=Warning)\n",
    "# Не показывать ValueWarning, ConvergenceWarning из statsmodels\n",
    "from statsmodels.tools.sm_exceptions import ValueWarning, ConvergenceWarning\n",
    "warnings.simplefilter('ignore', category=ValueWarning)\n",
    "warnings.simplefilter('ignore', category=ConvergenceWarning)"
   ]
  },
  {
   "cell_type": "markdown",
   "metadata": {},
   "source": [
    "Для подгонки используем классы \n",
    "* [ARIMA](https://www.statsmodels.org/stable/generated/statsmodels.tsa.arima.model.ARIMA.html#statsmodels.tsa.arima.model.ARIMA) (специфицированная модель)\n",
    "* [ARIMAResult](https://www.statsmodels.org/stable/generated/statsmodels.tsa.arima.model.ARIMAResults.html#statsmodels.tsa.arima.model.ARIMAResults) (подогнанная модель)\n",
    "\n",
    "При спецификации модели нужно задать параметры `order` (порядок модели) и  `trend` (порядок тренда, если тренд включается в модель)\n",
    "\n",
    "|d|Порядок тренда $k+d$|`trend`|`trend` (альтернативно)|\n",
    "|-|-|-|-|\n",
    "|0|-|'n'|`[0]`|\n",
    "|0|0|'c'|`[1]`|\n",
    "|0|1|'ct'|`[1, 1]`|\n",
    "|1|-|'n'|`[0]`|\n",
    "|1|1|'t'|`[0, 1]`|"
   ]
  },
  {
   "cell_type": "markdown",
   "metadata": {},
   "source": [
    "## Подгонка ARIMA заданного порядка\n",
    "\n",
    "Загрузим из БД [`FRED`](https://fred.stlouisfed.org/) недельные данные по Market Yield on U.S. Treasury Securities at 10-Year Constant Maturity (Symbol [`WGS10YR`](https://fred.stlouisfed.org/series/WGS10YR)) с 2000-01-01 по 2023-12-31 и создадим датафрейм `y`"
   ]
  },
  {
   "cell_type": "code",
   "execution_count": 3,
   "metadata": {},
   "outputs": [],
   "source": [
    "y = web.DataReader(name='WGS10YR', data_source='fred', start='2000-01-01', end='2023-12-31')"
   ]
  },
  {
   "cell_type": "markdown",
   "metadata": {},
   "source": [
    "Подгоним модель ARIMA(2,1,1) без сноса (без тренда) для `y`\n",
    "\n",
    "Спецификация\n",
    "\n",
    "$$\n",
    "\t(1-\\phi_1L-\\phi_2 L^2)(1-L) y_t=u_t+\\theta u_{t-1}\n",
    "$$"
   ]
  },
  {
   "cell_type": "code",
   "execution_count": null,
   "metadata": {},
   "outputs": [],
   "source": [
    "# спецификация модели\n",
    "mod = ARIMA(y, order=(2,1,1), trend='n', missing='drop')\n",
    "# подгонка модели на данных\n",
    "res = mod.fit()\n",
    "# выводим результаты подгонки\n",
    "res.summary(alpha=0.05)"
   ]
  },
  {
   "cell_type": "markdown",
   "metadata": {},
   "source": [
    "## Диагностика подогнанной модели\n",
    "\n",
    "Базовые графики"
   ]
  },
  {
   "cell_type": "code",
   "execution_count": null,
   "metadata": {},
   "outputs": [],
   "source": [
    "res.plot_diagnostics(lags=15)\n",
    "\n",
    "plt.show()"
   ]
  },
  {
   "cell_type": "markdown",
   "metadata": {},
   "source": [
    "Тест на серийную корреляцию (Ljung-Box test). Выберем число лагов 7"
   ]
  },
  {
   "cell_type": "code",
   "execution_count": null,
   "metadata": {},
   "outputs": [],
   "source": [
    "# корректировка степеней свободы: число оцениваемых коэффициентов = число параметров - 1 (-sigma2)\n",
    "model_df = mod.k_params-1\n",
    "# для тест отбрасываем первые d остатков (d=mod.k_diff)\n",
    "acorr_ljungbox(res.resid[mod.k_diff:] , lags=[7], model_df=model_df)"
   ]
  },
  {
   "cell_type": "markdown",
   "metadata": {},
   "source": [
    "Тест на гетероскедастичность (на ARCH-эффекты)"
   ]
  },
  {
   "cell_type": "code",
   "execution_count": null,
   "metadata": {},
   "outputs": [],
   "source": [
    "# корректировка степеней свободы: число оцениваемых коэффициентов = число параметров - 1 (-sigma2)\n",
    "model_df = mod.k_params-1\n",
    "# для тест отбрасываем первые d остатков (d=mod.k_diff)\n",
    "lm_stat, lm_pval, f_stat, f_pval = het_arch(res.resid[mod.k_diff:], nlags=7, ddof=model_df)\n",
    "\n",
    "lm_stat, lm_pval"
   ]
  },
  {
   "cell_type": "markdown",
   "metadata": {},
   "source": [
    "## Прогнозирование\n",
    "\n",
    "Построим прогноз на 10 периодов"
   ]
  },
  {
   "cell_type": "code",
   "execution_count": null,
   "metadata": {},
   "outputs": [],
   "source": [
    "forecasts = res.forecast(steps=10)\n",
    "forecasts"
   ]
  },
  {
   "cell_type": "markdown",
   "metadata": {},
   "source": [
    "визуализация прогноза"
   ]
  },
  {
   "cell_type": "code",
   "execution_count": null,
   "metadata": {},
   "outputs": [],
   "source": [
    "plot_predict(res, start=len(y), end=len(y)+10, alpha=0.05)\n",
    "\n",
    "plt.show()"
   ]
  },
  {
   "cell_type": "code",
   "execution_count": null,
   "metadata": {},
   "outputs": [],
   "source": [
    "plt.plot(y.tail(30))\n",
    "plt.plot(forecasts)\n",
    "\n",
    "plt.show()"
   ]
  }
 ],
 "metadata": {
  "kernelspec": {
   "display_name": "base",
   "language": "python",
   "name": "python3"
  },
  "language_info": {
   "codemirror_mode": {
    "name": "ipython",
    "version": 3
   },
   "file_extension": ".py",
   "mimetype": "text/x-python",
   "name": "python",
   "nbconvert_exporter": "python",
   "pygments_lexer": "ipython3",
   "version": "3.12.3"
  }
 },
 "nbformat": 4,
 "nbformat_minor": 2
}
